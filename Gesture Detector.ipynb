{
 "cells": [
  {
   "cell_type": "code",
   "execution_count": 1,
   "metadata": {},
   "outputs": [],
   "source": [
    "import os\n",
    "import shutil\n",
    "import random\n",
    "import tensorflow as tf\n",
    "from tensorflow import keras\n",
    "from tensorflow.keras.preprocessing.image import ImageDataGenerator\n",
    "import matplotlib.pyplot as plt\n",
    "from tensorflow.keras.layers import Dense\n",
    "from tensorflow.keras.callbacks import EarlyStopping\n",
    "import pandas as pd\n",
    "import numpy as np\n",
    "from sklearn.metrics import confusion_matrix\n",
    "%matplotlib inline"
   ]
  },
  {
   "cell_type": "code",
   "execution_count": 16,
   "metadata": {
    "scrolled": true
   },
   "outputs": [
    {
     "name": "stdout",
     "output_type": "stream",
     "text": [
      "['IMG_5918.JPG', 'IMG_5867.JPG', 'IMG_5017.JPG', 'IMG_4466.JPG', 'IMG_4506.JPG', 'IMG_5042.JPG', 'IMG_4574.JPG', 'IMG_1179.JPG', 'IMG_4370.JPG', 'IMG_4446.JPG', 'IMG_5603.JPG', 'IMG_5971.JPG', 'IMG_4286.JPG', 'IMG_4254.JPG', 'IMG_4554.JPG', 'IMG_4826.JPG', 'IMG_4936.JPG', 'IMG_4413.JPG', 'IMG_1229.JPG', 'IMG_5736.JPG', 'IMG_5007.JPG', 'IMG_4139.JPG', 'IMG_5786.JPG', 'IMG_4456.JPG', 'IMG_4956.JPG', 'IMG_4725.JPG', 'IMG_4276.JPG', 'IMG_4745.JPG', 'IMG_5286.JPG', 'IMG_1239.JPG']\n",
      "['IMG_5044.JPG', 'IMG_5858.JPG', 'IMG_4675.JPG', 'IMG_1240.JPG', 'IMG_4766.JPG', 'IMG_4172.JPG', 'IMG_4318.JPG', 'IMG_5951.JPG', 'IMG_5919.JPG', 'IMG_5686.JPG', 'IMG_4204.JPG', 'IMG_5267.JPG', 'IMG_1230.JPG', 'IMG_5214.JPG', 'IMG_5245.JPG', 'IMG_1170.JPG', 'IMG_4100.JPG', 'IMG_1291.JPG', 'IMG_5898.JPG', 'IMG_4080.JPG', 'IMG_4244.JPG', 'IMG_1271.JPG', 'IMG_5008.JPG', 'IMG_4414.JPG', 'IMG_4746.JPG', 'IMG_5549.JPG', 'IMG_4194.JPG', 'IMG_5133.JPG', 'IMG_5447.JPG', 'IMG_4130.JPG']\n",
      "['IMG_4717.JPG', 'IMG_4918.JPG', 'IMG_5165.JPG', 'IMG_4898.JPG', 'IMG_5055.JPG', 'IMG_5859.JPG', 'IMG_4767.JPG', 'IMG_5849.JPG', 'IMG_4988.JPG', 'IMG_4350.JPG', 'IMG_1171.JPG', 'IMG_4308.JPG', 'IMG_1120.JPG', 'IMG_4848.JPG', 'IMG_4298.JPG', 'IMG_5414.JPG', 'IMG_5509.JPG', 'IMG_5268.JPG', 'IMG_4488.JPG', 'IMG_4071.JPG', 'IMG_4478.JPG', 'IMG_1251.JPG', 'IMG_4535.JPG', 'IMG_5113.JPG', 'IMG_5667.JPG', 'IMG_5707.JPG', 'IMG_5899.JPG', 'IMG_5278.JPG', 'IMG_5808.JPG', 'IMG_5983.JPG']\n",
      "['IMG_4637.JPG', 'IMG_1232.JPG', 'IMG_5628.JPG', 'IMG_4406.JPG', 'IMG_5510.JPG', 'IMG_5459.JPG', 'IMG_5850.JPG', 'IMG_4697.JPG', 'IMG_4216.JPG', 'IMG_1263.JPG', 'IMG_4373.JPG', 'IMG_5425.JPG', 'IMG_5963.JPG', 'IMG_5066.JPG', 'IMG_1294.JPG', 'IMG_5479.JPG', 'IMG_5353.JPG', 'IMG_4142.JPG', 'IMG_4799.JPG', 'IMG_5321.JPG', 'IMG_5155.JPG', 'IMG_1242.JPG', 'IMG_4708.JPG', 'IMG_5540.JPG', 'IMG_4839.JPG', 'IMG_4152.JPG', 'IMG_4509.JPG', 'IMG_5393.JPG', 'IMG_5343.JPG', 'IMG_5196.JPG']\n",
      "['IMG_1264.JPG', 'IMG_1203.JPG', 'IMG_5079.JPG', 'IMG_4790.JPG', 'IMG_4103.JPG', 'IMG_5770.JPG', 'IMG_5177.JPG', 'IMG_4628.JPG', 'IMG_5021.JPG', 'IMG_5374.JPG', 'IMG_4153.JPG', 'IMG_1183.JPG', 'IMG_4548.JPG', 'IMG_1316.JPG', 'IMG_4930.JPG', 'IMG_5344.JPG', 'IMG_1233.JPG', 'IMG_4769.JPG', 'IMG_4227.JPG', 'IMG_4237.JPG', 'IMG_5095.JPG', 'IMG_4063.JPG', 'IMG_1142.JPG', 'IMG_5659.JPG', 'IMG_4407.JPG', 'IMG_4800.JPG', 'IMG_4729.JPG', 'IMG_5227.JPG', 'IMG_4428.JPG', 'IMG_5249.JPG']\n",
      "['IMG_1174.JPG', 'IMG_4770.JPG', 'IMG_4501.JPG', 'IMG_1224.JPG', 'IMG_4064.JPG', 'IMG_4260.JPG', 'IMG_5313.JPG', 'IMG_4639.JPG', 'IMG_5451.JPG', 'IMG_4124.JPG', 'IMG_5882.JPG', 'IMG_4408.JPG', 'IMG_5965.JPG', 'IMG_5512.JPG', 'IMG_5831.JPG', 'IMG_4710.JPG', 'IMG_4991.JPG', 'IMG_4144.JPG', 'IMG_4238.JPG', 'IMG_5096.JPG', 'IMG_5116.JPG', 'IMG_4511.JPG', 'IMG_5852.JPG', 'IMG_4134.JPG', 'IMG_4538.JPG', 'IMG_5405.JPG', 'IMG_5955.JPG', 'IMG_1285.JPG', 'IMG_1133.JPG', 'IMG_5902.JPG']\n",
      "['IMG_5117.JPG', 'IMG_4492.JPG', 'IMG_5049.JPG', 'IMG_5997.JPG', 'IMG_4239.JPG', 'IMG_5179.JPG', 'IMG_4354.JPG', 'IMG_5069.JPG', 'IMG_4512.JPG', 'IMG_5671.JPG', 'IMG_1154.JPG', 'IMG_4852.JPG', 'IMG_1235.JPG', 'IMG_5523.JPG', 'IMG_5742.JPG', 'IMG_5386.JPG', 'IMG_4761.JPG', 'IMG_5346.JPG', 'IMG_5711.JPG', 'IMG_1134.JPG', 'IMG_4892.JPG', 'IMG_4261.JPG', 'IMG_1245.JPG', 'IMG_5482.JPG', 'IMG_4590.JPG', 'IMG_5059.JPG', 'IMG_5681.JPG', 'IMG_5853.JPG', 'IMG_5558.JPG', 'IMG_5893.JPG']\n",
      "['IMG_1257.JPG', 'IMG_4335.JPG', 'IMG_5662.JPG', 'IMG_4983.JPG', 'IMG_4681.JPG', 'IMG_4913.JPG', 'IMG_4251.JPG', 'IMG_4262.JPG', 'IMG_5622.JPG', 'IMG_4178.JPG', 'IMG_4420.JPG', 'IMG_4803.JPG', 'IMG_5200.JPG', 'IMG_4712.JPG', 'IMG_5854.JPG', 'IMG_1176.JPG', 'IMG_4273.JPG', 'IMG_4210.JPG', 'IMG_5082.JPG', 'IMG_5357.JPG', 'IMG_5692.JPG', 'IMG_5129.JPG', 'IMG_4993.JPG', 'IMG_5098.JPG', 'IMG_5004.JPG', 'IMG_4126.JPG', 'IMG_1216.JPG', 'IMG_5070.JPG', 'IMG_5453.JPG', 'IMG_4443.JPG']\n",
      "['IMG_5970.JPG', 'IMG_4612.JPG', 'IMG_4211.JPG', 'IMG_5484.JPG', 'IMG_4592.JPG', 'IMG_4914.JPG', 'IMG_4356.JPG', 'IMG_5693.JPG', 'IMG_5590.JPG', 'IMG_5264.JPG', 'IMG_5051.JPG', 'IMG_4167.JPG', 'IMG_1278.JPG', 'IMG_4346.JPG', 'IMG_4874.JPG', 'IMG_5845.JPG', 'IMG_4494.JPG', 'IMG_4179.JPG', 'IMG_4399.JPG', 'IMG_5253.JPG', 'IMG_4713.JPG', 'IMG_4189.JPG', 'IMG_5368.JPG', 'IMG_1320.JPG', 'IMG_5140.JPG', 'IMG_5979.JPG', 'IMG_5948.JPG', 'IMG_4642.JPG', 'IMG_4804.JPG', 'IMG_5916.JPG']\n",
      "['IMG_4315.JPG', 'IMG_4673.JPG', 'IMG_5040.JPG', 'IMG_5307.JPG', 'IMG_5815.JPG', 'IMG_5765.JPG', 'IMG_4582.JPG', 'IMG_5389.JPG', 'IMG_4180.JPG', 'IMG_4825.JPG', 'IMG_5349.JPG', 'IMG_4805.JPG', 'IMG_5704.JPG', 'IMG_4563.JPG', 'IMG_5026.JPG', 'IMG_1238.JPG', 'IMG_5431.JPG', 'IMG_5937.JPG', 'IMG_5338.JPG', 'IMG_5202.JPG', 'IMG_4222.JPG', 'IMG_5120.JPG', 'IMG_5233.JPG', 'IMG_4764.JPG', 'IMG_5714.JPG', 'IMG_4253.JPG', 'IMG_5359.JPG', 'IMG_5455.JPG', 'IMG_5369.JPG', 'IMG_4915.JPG']\n"
     ]
    }
   ],
   "source": [
    "os.chdir(r\"C:\\Users\\15088\\OneDrive\\Desktop\\SEP 789 Final Project\\data\\Sign-Language-Dataset\")\n",
    "if os.path.isdir('train/0/') is False:\n",
    "    os.mkdir('train')\n",
    "    os.mkdir('valid')\n",
    "    os.mkdir('test')\n",
    "    \n",
    "    for i in range(0, 10):\n",
    "        shutil.move(f'{i}', 'train')\n",
    "        os.mkdir(f'valid/{i}')\n",
    "        os.mkdir(f'test/{i}')\n",
    "        \n",
    "        valid_samples = random.sample(os.listdir(f'train/{i}'), 30)\n",
    "        print(valid_samples)\n",
    "        for j in valid_samples:\n",
    "            shutil.move(f'train/{i}/{j}', f'valid/{i}')\n",
    "            \n",
    "        test_samples = random.sample(os.listdir(f'train/{i}'), 5)\n",
    "        for k in test_samples:\n",
    "            shutil.move(f'train/{i}/{k}', f'test/{i}')\n",
    "            \n",
    "os.chdir('../..')"
   ]
  },
  {
   "cell_type": "code",
   "execution_count": 23,
   "metadata": {},
   "outputs": [],
   "source": [
    "train_path = r\"C:\\Users\\15088\\OneDrive\\Desktop\\SEP 789 Final Project\\data\\Sign-Language-Dataset\\train\"\n",
    "valid_path = r\"C:\\Users\\15088\\OneDrive\\Desktop\\SEP 789 Final Project\\data\\Sign-Language-Dataset\\valid\"\n",
    "test_path = r\"C:\\Users\\15088\\OneDrive\\Desktop\\SEP 789 Final Project\\data\\Sign-Language-Dataset\\test\""
   ]
  },
  {
   "cell_type": "code",
   "execution_count": 26,
   "metadata": {},
   "outputs": [
    {
     "name": "stdout",
     "output_type": "stream",
     "text": [
      "Found 1712 images belonging to 10 classes.\n",
      "Found 300 images belonging to 10 classes.\n",
      "Found 50 images belonging to 10 classes.\n"
     ]
    }
   ],
   "source": [
    "# MobileNet requires rescaling each pixel t0 between -1 and 1\n",
    "train_batches = ImageDataGenerator(preprocessing_function=tf.keras.applications.mobilenet.preprocess_input, horizontal_flip=True, width_shift_range=0.5, height_shift_range=0.5,rotation_range=90,brightness_range=[0.2,1.0], zoom_range=0.5).flow_from_directory(directory=train_path, target_size=(224, 224), batch_size = 30)\n",
    "valid_batches = ImageDataGenerator(preprocessing_function=tf.keras.applications.mobilenet.preprocess_input).flow_from_directory(directory=valid_path, target_size=(224, 224), batch_size = 30)\n",
    "test_batches = ImageDataGenerator(preprocessing_function=tf.keras.applications.mobilenet.preprocess_input).flow_from_directory(directory=test_path, target_size=(224, 224), batch_size=30, shuffle=False)"
   ]
  },
  {
   "cell_type": "markdown",
   "metadata": {},
   "source": [
    "## Modify Model"
   ]
  },
  {
   "cell_type": "code",
   "execution_count": 28,
   "metadata": {},
   "outputs": [],
   "source": [
    "mobileNet = tf.keras.applications.mobilenet.MobileNet()"
   ]
  },
  {
   "cell_type": "code",
   "execution_count": 29,
   "metadata": {},
   "outputs": [
    {
     "name": "stdout",
     "output_type": "stream",
     "text": [
      "Model: \"mobilenet_1.00_224\"\n",
      "_________________________________________________________________\n",
      "Layer (type)                 Output Shape              Param #   \n",
      "=================================================================\n",
      "input_1 (InputLayer)         [(None, 224, 224, 3)]     0         \n",
      "_________________________________________________________________\n",
      "conv1 (Conv2D)               (None, 112, 112, 32)      864       \n",
      "_________________________________________________________________\n",
      "conv1_bn (BatchNormalization (None, 112, 112, 32)      128       \n",
      "_________________________________________________________________\n",
      "conv1_relu (ReLU)            (None, 112, 112, 32)      0         \n",
      "_________________________________________________________________\n",
      "conv_dw_1 (DepthwiseConv2D)  (None, 112, 112, 32)      288       \n",
      "_________________________________________________________________\n",
      "conv_dw_1_bn (BatchNormaliza (None, 112, 112, 32)      128       \n",
      "_________________________________________________________________\n",
      "conv_dw_1_relu (ReLU)        (None, 112, 112, 32)      0         \n",
      "_________________________________________________________________\n",
      "conv_pw_1 (Conv2D)           (None, 112, 112, 64)      2048      \n",
      "_________________________________________________________________\n",
      "conv_pw_1_bn (BatchNormaliza (None, 112, 112, 64)      256       \n",
      "_________________________________________________________________\n",
      "conv_pw_1_relu (ReLU)        (None, 112, 112, 64)      0         \n",
      "_________________________________________________________________\n",
      "conv_pad_2 (ZeroPadding2D)   (None, 113, 113, 64)      0         \n",
      "_________________________________________________________________\n",
      "conv_dw_2 (DepthwiseConv2D)  (None, 56, 56, 64)        576       \n",
      "_________________________________________________________________\n",
      "conv_dw_2_bn (BatchNormaliza (None, 56, 56, 64)        256       \n",
      "_________________________________________________________________\n",
      "conv_dw_2_relu (ReLU)        (None, 56, 56, 64)        0         \n",
      "_________________________________________________________________\n",
      "conv_pw_2 (Conv2D)           (None, 56, 56, 128)       8192      \n",
      "_________________________________________________________________\n",
      "conv_pw_2_bn (BatchNormaliza (None, 56, 56, 128)       512       \n",
      "_________________________________________________________________\n",
      "conv_pw_2_relu (ReLU)        (None, 56, 56, 128)       0         \n",
      "_________________________________________________________________\n",
      "conv_dw_3 (DepthwiseConv2D)  (None, 56, 56, 128)       1152      \n",
      "_________________________________________________________________\n",
      "conv_dw_3_bn (BatchNormaliza (None, 56, 56, 128)       512       \n",
      "_________________________________________________________________\n",
      "conv_dw_3_relu (ReLU)        (None, 56, 56, 128)       0         \n",
      "_________________________________________________________________\n",
      "conv_pw_3 (Conv2D)           (None, 56, 56, 128)       16384     \n",
      "_________________________________________________________________\n",
      "conv_pw_3_bn (BatchNormaliza (None, 56, 56, 128)       512       \n",
      "_________________________________________________________________\n",
      "conv_pw_3_relu (ReLU)        (None, 56, 56, 128)       0         \n",
      "_________________________________________________________________\n",
      "conv_pad_4 (ZeroPadding2D)   (None, 57, 57, 128)       0         \n",
      "_________________________________________________________________\n",
      "conv_dw_4 (DepthwiseConv2D)  (None, 28, 28, 128)       1152      \n",
      "_________________________________________________________________\n",
      "conv_dw_4_bn (BatchNormaliza (None, 28, 28, 128)       512       \n",
      "_________________________________________________________________\n",
      "conv_dw_4_relu (ReLU)        (None, 28, 28, 128)       0         \n",
      "_________________________________________________________________\n",
      "conv_pw_4 (Conv2D)           (None, 28, 28, 256)       32768     \n",
      "_________________________________________________________________\n",
      "conv_pw_4_bn (BatchNormaliza (None, 28, 28, 256)       1024      \n",
      "_________________________________________________________________\n",
      "conv_pw_4_relu (ReLU)        (None, 28, 28, 256)       0         \n",
      "_________________________________________________________________\n",
      "conv_dw_5 (DepthwiseConv2D)  (None, 28, 28, 256)       2304      \n",
      "_________________________________________________________________\n",
      "conv_dw_5_bn (BatchNormaliza (None, 28, 28, 256)       1024      \n",
      "_________________________________________________________________\n",
      "conv_dw_5_relu (ReLU)        (None, 28, 28, 256)       0         \n",
      "_________________________________________________________________\n",
      "conv_pw_5 (Conv2D)           (None, 28, 28, 256)       65536     \n",
      "_________________________________________________________________\n",
      "conv_pw_5_bn (BatchNormaliza (None, 28, 28, 256)       1024      \n",
      "_________________________________________________________________\n",
      "conv_pw_5_relu (ReLU)        (None, 28, 28, 256)       0         \n",
      "_________________________________________________________________\n",
      "conv_pad_6 (ZeroPadding2D)   (None, 29, 29, 256)       0         \n",
      "_________________________________________________________________\n",
      "conv_dw_6 (DepthwiseConv2D)  (None, 14, 14, 256)       2304      \n",
      "_________________________________________________________________\n",
      "conv_dw_6_bn (BatchNormaliza (None, 14, 14, 256)       1024      \n",
      "_________________________________________________________________\n",
      "conv_dw_6_relu (ReLU)        (None, 14, 14, 256)       0         \n",
      "_________________________________________________________________\n",
      "conv_pw_6 (Conv2D)           (None, 14, 14, 512)       131072    \n",
      "_________________________________________________________________\n",
      "conv_pw_6_bn (BatchNormaliza (None, 14, 14, 512)       2048      \n",
      "_________________________________________________________________\n",
      "conv_pw_6_relu (ReLU)        (None, 14, 14, 512)       0         \n",
      "_________________________________________________________________\n",
      "conv_dw_7 (DepthwiseConv2D)  (None, 14, 14, 512)       4608      \n",
      "_________________________________________________________________\n",
      "conv_dw_7_bn (BatchNormaliza (None, 14, 14, 512)       2048      \n",
      "_________________________________________________________________\n",
      "conv_dw_7_relu (ReLU)        (None, 14, 14, 512)       0         \n",
      "_________________________________________________________________\n",
      "conv_pw_7 (Conv2D)           (None, 14, 14, 512)       262144    \n",
      "_________________________________________________________________\n",
      "conv_pw_7_bn (BatchNormaliza (None, 14, 14, 512)       2048      \n",
      "_________________________________________________________________\n",
      "conv_pw_7_relu (ReLU)        (None, 14, 14, 512)       0         \n",
      "_________________________________________________________________\n",
      "conv_dw_8 (DepthwiseConv2D)  (None, 14, 14, 512)       4608      \n",
      "_________________________________________________________________\n",
      "conv_dw_8_bn (BatchNormaliza (None, 14, 14, 512)       2048      \n",
      "_________________________________________________________________\n",
      "conv_dw_8_relu (ReLU)        (None, 14, 14, 512)       0         \n",
      "_________________________________________________________________\n",
      "conv_pw_8 (Conv2D)           (None, 14, 14, 512)       262144    \n",
      "_________________________________________________________________\n",
      "conv_pw_8_bn (BatchNormaliza (None, 14, 14, 512)       2048      \n",
      "_________________________________________________________________\n",
      "conv_pw_8_relu (ReLU)        (None, 14, 14, 512)       0         \n",
      "_________________________________________________________________\n",
      "conv_dw_9 (DepthwiseConv2D)  (None, 14, 14, 512)       4608      \n",
      "_________________________________________________________________\n",
      "conv_dw_9_bn (BatchNormaliza (None, 14, 14, 512)       2048      \n",
      "_________________________________________________________________\n",
      "conv_dw_9_relu (ReLU)        (None, 14, 14, 512)       0         \n",
      "_________________________________________________________________\n",
      "conv_pw_9 (Conv2D)           (None, 14, 14, 512)       262144    \n",
      "_________________________________________________________________\n",
      "conv_pw_9_bn (BatchNormaliza (None, 14, 14, 512)       2048      \n",
      "_________________________________________________________________\n",
      "conv_pw_9_relu (ReLU)        (None, 14, 14, 512)       0         \n",
      "_________________________________________________________________\n",
      "conv_dw_10 (DepthwiseConv2D) (None, 14, 14, 512)       4608      \n",
      "_________________________________________________________________\n",
      "conv_dw_10_bn (BatchNormaliz (None, 14, 14, 512)       2048      \n",
      "_________________________________________________________________\n",
      "conv_dw_10_relu (ReLU)       (None, 14, 14, 512)       0         \n",
      "_________________________________________________________________\n",
      "conv_pw_10 (Conv2D)          (None, 14, 14, 512)       262144    \n",
      "_________________________________________________________________\n",
      "conv_pw_10_bn (BatchNormaliz (None, 14, 14, 512)       2048      \n",
      "_________________________________________________________________\n",
      "conv_pw_10_relu (ReLU)       (None, 14, 14, 512)       0         \n",
      "_________________________________________________________________\n",
      "conv_dw_11 (DepthwiseConv2D) (None, 14, 14, 512)       4608      \n",
      "_________________________________________________________________\n",
      "conv_dw_11_bn (BatchNormaliz (None, 14, 14, 512)       2048      \n",
      "_________________________________________________________________\n",
      "conv_dw_11_relu (ReLU)       (None, 14, 14, 512)       0         \n",
      "_________________________________________________________________\n",
      "conv_pw_11 (Conv2D)          (None, 14, 14, 512)       262144    \n",
      "_________________________________________________________________\n",
      "conv_pw_11_bn (BatchNormaliz (None, 14, 14, 512)       2048      \n",
      "_________________________________________________________________\n",
      "conv_pw_11_relu (ReLU)       (None, 14, 14, 512)       0         \n",
      "_________________________________________________________________\n",
      "conv_pad_12 (ZeroPadding2D)  (None, 15, 15, 512)       0         \n",
      "_________________________________________________________________\n",
      "conv_dw_12 (DepthwiseConv2D) (None, 7, 7, 512)         4608      \n",
      "_________________________________________________________________\n",
      "conv_dw_12_bn (BatchNormaliz (None, 7, 7, 512)         2048      \n",
      "_________________________________________________________________\n",
      "conv_dw_12_relu (ReLU)       (None, 7, 7, 512)         0         \n",
      "_________________________________________________________________\n",
      "conv_pw_12 (Conv2D)          (None, 7, 7, 1024)        524288    \n",
      "_________________________________________________________________\n",
      "conv_pw_12_bn (BatchNormaliz (None, 7, 7, 1024)        4096      \n",
      "_________________________________________________________________\n",
      "conv_pw_12_relu (ReLU)       (None, 7, 7, 1024)        0         \n",
      "_________________________________________________________________\n",
      "conv_dw_13 (DepthwiseConv2D) (None, 7, 7, 1024)        9216      \n",
      "_________________________________________________________________\n",
      "conv_dw_13_bn (BatchNormaliz (None, 7, 7, 1024)        4096      \n",
      "_________________________________________________________________\n",
      "conv_dw_13_relu (ReLU)       (None, 7, 7, 1024)        0         \n",
      "_________________________________________________________________\n",
      "conv_pw_13 (Conv2D)          (None, 7, 7, 1024)        1048576   \n",
      "_________________________________________________________________\n",
      "conv_pw_13_bn (BatchNormaliz (None, 7, 7, 1024)        4096      \n",
      "_________________________________________________________________\n",
      "conv_pw_13_relu (ReLU)       (None, 7, 7, 1024)        0         \n",
      "_________________________________________________________________\n",
      "global_average_pooling2d (Gl (None, 1024)              0         \n",
      "_________________________________________________________________\n",
      "reshape_1 (Reshape)          (None, 1, 1, 1024)        0         \n",
      "_________________________________________________________________\n",
      "dropout (Dropout)            (None, 1, 1, 1024)        0         \n",
      "_________________________________________________________________\n",
      "conv_preds (Conv2D)          (None, 1, 1, 1000)        1025000   \n",
      "_________________________________________________________________\n",
      "reshape_2 (Reshape)          (None, 1000)              0         \n",
      "_________________________________________________________________\n",
      "predictions (Activation)     (None, 1000)              0         \n",
      "=================================================================\n",
      "Total params: 4,253,864\n",
      "Trainable params: 4,231,976\n",
      "Non-trainable params: 21,888\n",
      "_________________________________________________________________\n"
     ]
    }
   ],
   "source": [
    "mobileNet.summary()"
   ]
  },
  {
   "cell_type": "code",
   "execution_count": 30,
   "metadata": {},
   "outputs": [
    {
     "data": {
      "text/plain": [
       "92"
      ]
     },
     "execution_count": 30,
     "metadata": {},
     "output_type": "execute_result"
    }
   ],
   "source": [
    "len(mobileNet.layers)"
   ]
  },
  {
   "cell_type": "code",
   "execution_count": 31,
   "metadata": {},
   "outputs": [
    {
     "data": {
      "text/plain": [
       "<KerasTensor: shape=(None, 1024) dtype=float32 (created by layer 'global_average_pooling2d')>"
      ]
     },
     "execution_count": 31,
     "metadata": {},
     "output_type": "execute_result"
    }
   ],
   "source": [
    "x = mobileNet.layers[-6].output\n",
    "x"
   ]
  },
  {
   "cell_type": "code",
   "execution_count": 32,
   "metadata": {},
   "outputs": [],
   "source": [
    "dense = Dense(units = 32, activation = \"relu\")(x)\n",
    "output = Dense(units = 10, activation = \"softmax\")(dense)"
   ]
  },
  {
   "cell_type": "code",
   "execution_count": 33,
   "metadata": {},
   "outputs": [],
   "source": [
    "model = keras.Model(inputs = mobileNet.input, outputs = output)"
   ]
  },
  {
   "cell_type": "code",
   "execution_count": 34,
   "metadata": {},
   "outputs": [],
   "source": [
    "for layer in model.layers[: -23]:\n",
    "    layer.trainable = False"
   ]
  },
  {
   "cell_type": "code",
   "execution_count": 35,
   "metadata": {},
   "outputs": [
    {
     "name": "stdout",
     "output_type": "stream",
     "text": [
      "Model: \"model\"\n",
      "_________________________________________________________________\n",
      "Layer (type)                 Output Shape              Param #   \n",
      "=================================================================\n",
      "input_1 (InputLayer)         [(None, 224, 224, 3)]     0         \n",
      "_________________________________________________________________\n",
      "conv1 (Conv2D)               (None, 112, 112, 32)      864       \n",
      "_________________________________________________________________\n",
      "conv1_bn (BatchNormalization (None, 112, 112, 32)      128       \n",
      "_________________________________________________________________\n",
      "conv1_relu (ReLU)            (None, 112, 112, 32)      0         \n",
      "_________________________________________________________________\n",
      "conv_dw_1 (DepthwiseConv2D)  (None, 112, 112, 32)      288       \n",
      "_________________________________________________________________\n",
      "conv_dw_1_bn (BatchNormaliza (None, 112, 112, 32)      128       \n",
      "_________________________________________________________________\n",
      "conv_dw_1_relu (ReLU)        (None, 112, 112, 32)      0         \n",
      "_________________________________________________________________\n",
      "conv_pw_1 (Conv2D)           (None, 112, 112, 64)      2048      \n",
      "_________________________________________________________________\n",
      "conv_pw_1_bn (BatchNormaliza (None, 112, 112, 64)      256       \n",
      "_________________________________________________________________\n",
      "conv_pw_1_relu (ReLU)        (None, 112, 112, 64)      0         \n",
      "_________________________________________________________________\n",
      "conv_pad_2 (ZeroPadding2D)   (None, 113, 113, 64)      0         \n",
      "_________________________________________________________________\n",
      "conv_dw_2 (DepthwiseConv2D)  (None, 56, 56, 64)        576       \n",
      "_________________________________________________________________\n",
      "conv_dw_2_bn (BatchNormaliza (None, 56, 56, 64)        256       \n",
      "_________________________________________________________________\n",
      "conv_dw_2_relu (ReLU)        (None, 56, 56, 64)        0         \n",
      "_________________________________________________________________\n",
      "conv_pw_2 (Conv2D)           (None, 56, 56, 128)       8192      \n",
      "_________________________________________________________________\n",
      "conv_pw_2_bn (BatchNormaliza (None, 56, 56, 128)       512       \n",
      "_________________________________________________________________\n",
      "conv_pw_2_relu (ReLU)        (None, 56, 56, 128)       0         \n",
      "_________________________________________________________________\n",
      "conv_dw_3 (DepthwiseConv2D)  (None, 56, 56, 128)       1152      \n",
      "_________________________________________________________________\n",
      "conv_dw_3_bn (BatchNormaliza (None, 56, 56, 128)       512       \n",
      "_________________________________________________________________\n",
      "conv_dw_3_relu (ReLU)        (None, 56, 56, 128)       0         \n",
      "_________________________________________________________________\n",
      "conv_pw_3 (Conv2D)           (None, 56, 56, 128)       16384     \n",
      "_________________________________________________________________\n",
      "conv_pw_3_bn (BatchNormaliza (None, 56, 56, 128)       512       \n",
      "_________________________________________________________________\n",
      "conv_pw_3_relu (ReLU)        (None, 56, 56, 128)       0         \n",
      "_________________________________________________________________\n",
      "conv_pad_4 (ZeroPadding2D)   (None, 57, 57, 128)       0         \n",
      "_________________________________________________________________\n",
      "conv_dw_4 (DepthwiseConv2D)  (None, 28, 28, 128)       1152      \n",
      "_________________________________________________________________\n",
      "conv_dw_4_bn (BatchNormaliza (None, 28, 28, 128)       512       \n",
      "_________________________________________________________________\n",
      "conv_dw_4_relu (ReLU)        (None, 28, 28, 128)       0         \n",
      "_________________________________________________________________\n",
      "conv_pw_4 (Conv2D)           (None, 28, 28, 256)       32768     \n",
      "_________________________________________________________________\n",
      "conv_pw_4_bn (BatchNormaliza (None, 28, 28, 256)       1024      \n",
      "_________________________________________________________________\n",
      "conv_pw_4_relu (ReLU)        (None, 28, 28, 256)       0         \n",
      "_________________________________________________________________\n",
      "conv_dw_5 (DepthwiseConv2D)  (None, 28, 28, 256)       2304      \n",
      "_________________________________________________________________\n",
      "conv_dw_5_bn (BatchNormaliza (None, 28, 28, 256)       1024      \n",
      "_________________________________________________________________\n",
      "conv_dw_5_relu (ReLU)        (None, 28, 28, 256)       0         \n",
      "_________________________________________________________________\n",
      "conv_pw_5 (Conv2D)           (None, 28, 28, 256)       65536     \n",
      "_________________________________________________________________\n",
      "conv_pw_5_bn (BatchNormaliza (None, 28, 28, 256)       1024      \n",
      "_________________________________________________________________\n",
      "conv_pw_5_relu (ReLU)        (None, 28, 28, 256)       0         \n",
      "_________________________________________________________________\n",
      "conv_pad_6 (ZeroPadding2D)   (None, 29, 29, 256)       0         \n",
      "_________________________________________________________________\n",
      "conv_dw_6 (DepthwiseConv2D)  (None, 14, 14, 256)       2304      \n",
      "_________________________________________________________________\n",
      "conv_dw_6_bn (BatchNormaliza (None, 14, 14, 256)       1024      \n",
      "_________________________________________________________________\n",
      "conv_dw_6_relu (ReLU)        (None, 14, 14, 256)       0         \n",
      "_________________________________________________________________\n",
      "conv_pw_6 (Conv2D)           (None, 14, 14, 512)       131072    \n",
      "_________________________________________________________________\n",
      "conv_pw_6_bn (BatchNormaliza (None, 14, 14, 512)       2048      \n",
      "_________________________________________________________________\n",
      "conv_pw_6_relu (ReLU)        (None, 14, 14, 512)       0         \n",
      "_________________________________________________________________\n",
      "conv_dw_7 (DepthwiseConv2D)  (None, 14, 14, 512)       4608      \n",
      "_________________________________________________________________\n",
      "conv_dw_7_bn (BatchNormaliza (None, 14, 14, 512)       2048      \n",
      "_________________________________________________________________\n",
      "conv_dw_7_relu (ReLU)        (None, 14, 14, 512)       0         \n",
      "_________________________________________________________________\n",
      "conv_pw_7 (Conv2D)           (None, 14, 14, 512)       262144    \n",
      "_________________________________________________________________\n",
      "conv_pw_7_bn (BatchNormaliza (None, 14, 14, 512)       2048      \n",
      "_________________________________________________________________\n",
      "conv_pw_7_relu (ReLU)        (None, 14, 14, 512)       0         \n",
      "_________________________________________________________________\n",
      "conv_dw_8 (DepthwiseConv2D)  (None, 14, 14, 512)       4608      \n",
      "_________________________________________________________________\n",
      "conv_dw_8_bn (BatchNormaliza (None, 14, 14, 512)       2048      \n",
      "_________________________________________________________________\n",
      "conv_dw_8_relu (ReLU)        (None, 14, 14, 512)       0         \n",
      "_________________________________________________________________\n",
      "conv_pw_8 (Conv2D)           (None, 14, 14, 512)       262144    \n",
      "_________________________________________________________________\n",
      "conv_pw_8_bn (BatchNormaliza (None, 14, 14, 512)       2048      \n",
      "_________________________________________________________________\n",
      "conv_pw_8_relu (ReLU)        (None, 14, 14, 512)       0         \n",
      "_________________________________________________________________\n",
      "conv_dw_9 (DepthwiseConv2D)  (None, 14, 14, 512)       4608      \n",
      "_________________________________________________________________\n",
      "conv_dw_9_bn (BatchNormaliza (None, 14, 14, 512)       2048      \n",
      "_________________________________________________________________\n",
      "conv_dw_9_relu (ReLU)        (None, 14, 14, 512)       0         \n",
      "_________________________________________________________________\n",
      "conv_pw_9 (Conv2D)           (None, 14, 14, 512)       262144    \n",
      "_________________________________________________________________\n",
      "conv_pw_9_bn (BatchNormaliza (None, 14, 14, 512)       2048      \n",
      "_________________________________________________________________\n",
      "conv_pw_9_relu (ReLU)        (None, 14, 14, 512)       0         \n",
      "_________________________________________________________________\n",
      "conv_dw_10 (DepthwiseConv2D) (None, 14, 14, 512)       4608      \n",
      "_________________________________________________________________\n",
      "conv_dw_10_bn (BatchNormaliz (None, 14, 14, 512)       2048      \n",
      "_________________________________________________________________\n",
      "conv_dw_10_relu (ReLU)       (None, 14, 14, 512)       0         \n",
      "_________________________________________________________________\n",
      "conv_pw_10 (Conv2D)          (None, 14, 14, 512)       262144    \n",
      "_________________________________________________________________\n",
      "conv_pw_10_bn (BatchNormaliz (None, 14, 14, 512)       2048      \n",
      "_________________________________________________________________\n",
      "conv_pw_10_relu (ReLU)       (None, 14, 14, 512)       0         \n",
      "_________________________________________________________________\n",
      "conv_dw_11 (DepthwiseConv2D) (None, 14, 14, 512)       4608      \n",
      "_________________________________________________________________\n",
      "conv_dw_11_bn (BatchNormaliz (None, 14, 14, 512)       2048      \n",
      "_________________________________________________________________\n",
      "conv_dw_11_relu (ReLU)       (None, 14, 14, 512)       0         \n",
      "_________________________________________________________________\n",
      "conv_pw_11 (Conv2D)          (None, 14, 14, 512)       262144    \n",
      "_________________________________________________________________\n",
      "conv_pw_11_bn (BatchNormaliz (None, 14, 14, 512)       2048      \n",
      "_________________________________________________________________\n",
      "conv_pw_11_relu (ReLU)       (None, 14, 14, 512)       0         \n",
      "_________________________________________________________________\n",
      "conv_pad_12 (ZeroPadding2D)  (None, 15, 15, 512)       0         \n",
      "_________________________________________________________________\n",
      "conv_dw_12 (DepthwiseConv2D) (None, 7, 7, 512)         4608      \n",
      "_________________________________________________________________\n",
      "conv_dw_12_bn (BatchNormaliz (None, 7, 7, 512)         2048      \n",
      "_________________________________________________________________\n",
      "conv_dw_12_relu (ReLU)       (None, 7, 7, 512)         0         \n",
      "_________________________________________________________________\n",
      "conv_pw_12 (Conv2D)          (None, 7, 7, 1024)        524288    \n",
      "_________________________________________________________________\n",
      "conv_pw_12_bn (BatchNormaliz (None, 7, 7, 1024)        4096      \n",
      "_________________________________________________________________\n",
      "conv_pw_12_relu (ReLU)       (None, 7, 7, 1024)        0         \n",
      "_________________________________________________________________\n",
      "conv_dw_13 (DepthwiseConv2D) (None, 7, 7, 1024)        9216      \n",
      "_________________________________________________________________\n",
      "conv_dw_13_bn (BatchNormaliz (None, 7, 7, 1024)        4096      \n",
      "_________________________________________________________________\n",
      "conv_dw_13_relu (ReLU)       (None, 7, 7, 1024)        0         \n",
      "_________________________________________________________________\n",
      "conv_pw_13 (Conv2D)          (None, 7, 7, 1024)        1048576   \n",
      "_________________________________________________________________\n",
      "conv_pw_13_bn (BatchNormaliz (None, 7, 7, 1024)        4096      \n",
      "_________________________________________________________________\n",
      "conv_pw_13_relu (ReLU)       (None, 7, 7, 1024)        0         \n",
      "_________________________________________________________________\n",
      "global_average_pooling2d (Gl (None, 1024)              0         \n",
      "_________________________________________________________________\n",
      "dense (Dense)                (None, 32)                32800     \n",
      "_________________________________________________________________\n",
      "dense_1 (Dense)              (None, 10)                330       \n",
      "=================================================================\n",
      "Total params: 3,261,994\n",
      "Trainable params: 1,895,786\n",
      "Non-trainable params: 1,366,208\n",
      "_________________________________________________________________\n"
     ]
    }
   ],
   "source": [
    "model.summary()"
   ]
  },
  {
   "cell_type": "markdown",
   "metadata": {},
   "source": [
    "## Model Training"
   ]
  },
  {
   "cell_type": "code",
   "execution_count": 36,
   "metadata": {},
   "outputs": [],
   "source": [
    "model.compile(optimizer = keras.optimizers.Adam(lr = 0.0001), loss = 'categorical_crossentropy', metrics = ['accuracy'])"
   ]
  },
  {
   "cell_type": "code",
   "execution_count": 37,
   "metadata": {},
   "outputs": [],
   "source": [
    "early_stop = EarlyStopping(monitor='val_loss', mode='min', verbose=2,patience=25)"
   ]
  },
  {
   "cell_type": "code",
   "execution_count": 38,
   "metadata": {
    "scrolled": true
   },
   "outputs": [
    {
     "name": "stdout",
     "output_type": "stream",
     "text": [
      "Epoch 1/50\n",
      "58/58 - 39s - loss: 2.0382 - accuracy: 0.2810 - val_loss: 2.2339 - val_accuracy: 0.2467\n",
      "Epoch 2/50\n",
      "58/58 - 36s - loss: 1.5481 - accuracy: 0.4533 - val_loss: 1.5883 - val_accuracy: 0.4333\n",
      "Epoch 3/50\n",
      "58/58 - 36s - loss: 1.2671 - accuracy: 0.5613 - val_loss: 0.9358 - val_accuracy: 0.7667\n",
      "Epoch 4/50\n",
      "58/58 - 37s - loss: 1.1264 - accuracy: 0.6092 - val_loss: 0.7139 - val_accuracy: 0.8000\n",
      "Epoch 5/50\n",
      "58/58 - 37s - loss: 1.0183 - accuracy: 0.6431 - val_loss: 0.5320 - val_accuracy: 0.8533\n",
      "Epoch 6/50\n",
      "58/58 - 39s - loss: 0.9276 - accuracy: 0.6764 - val_loss: 0.5287 - val_accuracy: 0.8367\n",
      "Epoch 7/50\n",
      "58/58 - 38s - loss: 0.8960 - accuracy: 0.6933 - val_loss: 0.4282 - val_accuracy: 0.8500\n",
      "Epoch 8/50\n",
      "58/58 - 36s - loss: 0.8486 - accuracy: 0.7068 - val_loss: 0.3675 - val_accuracy: 0.8833\n",
      "Epoch 9/50\n",
      "58/58 - 37s - loss: 0.7880 - accuracy: 0.7319 - val_loss: 0.3464 - val_accuracy: 0.8767\n",
      "Epoch 10/50\n",
      "58/58 - 36s - loss: 0.8271 - accuracy: 0.7074 - val_loss: 0.2977 - val_accuracy: 0.8967\n",
      "Epoch 11/50\n",
      "58/58 - 38s - loss: 0.7408 - accuracy: 0.7436 - val_loss: 0.2582 - val_accuracy: 0.9133\n",
      "Epoch 12/50\n",
      "58/58 - 42s - loss: 0.8070 - accuracy: 0.7050 - val_loss: 0.2577 - val_accuracy: 0.9133\n",
      "Epoch 13/50\n",
      "58/58 - 41s - loss: 0.7559 - accuracy: 0.7237 - val_loss: 0.2104 - val_accuracy: 0.9167\n",
      "Epoch 14/50\n",
      "58/58 - 39s - loss: 0.7295 - accuracy: 0.7389 - val_loss: 0.3222 - val_accuracy: 0.8867\n",
      "Epoch 15/50\n",
      "58/58 - 42s - loss: 0.6833 - accuracy: 0.7465 - val_loss: 0.2829 - val_accuracy: 0.9067\n",
      "Epoch 16/50\n",
      "58/58 - 43s - loss: 0.7236 - accuracy: 0.7407 - val_loss: 0.1936 - val_accuracy: 0.9333\n",
      "Epoch 17/50\n",
      "58/58 - 41s - loss: 0.7316 - accuracy: 0.7220 - val_loss: 0.2183 - val_accuracy: 0.9267\n",
      "Epoch 18/50\n",
      "58/58 - 40s - loss: 0.6816 - accuracy: 0.7640 - val_loss: 0.2375 - val_accuracy: 0.9233\n",
      "Epoch 19/50\n",
      "58/58 - 39s - loss: 0.6960 - accuracy: 0.7564 - val_loss: 0.2223 - val_accuracy: 0.9167\n",
      "Epoch 20/50\n",
      "58/58 - 40s - loss: 0.6777 - accuracy: 0.7553 - val_loss: 0.1787 - val_accuracy: 0.9300\n",
      "Epoch 21/50\n",
      "58/58 - 39s - loss: 0.6711 - accuracy: 0.7518 - val_loss: 0.3051 - val_accuracy: 0.8833\n",
      "Epoch 22/50\n",
      "58/58 - 39s - loss: 0.6543 - accuracy: 0.7699 - val_loss: 0.1509 - val_accuracy: 0.9567\n",
      "Epoch 23/50\n",
      "58/58 - 38s - loss: 0.6649 - accuracy: 0.7582 - val_loss: 0.1423 - val_accuracy: 0.9467\n",
      "Epoch 24/50\n",
      "58/58 - 39s - loss: 0.6396 - accuracy: 0.7769 - val_loss: 0.2280 - val_accuracy: 0.9067\n",
      "Epoch 25/50\n",
      "58/58 - 38s - loss: 0.6480 - accuracy: 0.7739 - val_loss: 0.2252 - val_accuracy: 0.9233\n",
      "Epoch 26/50\n",
      "58/58 - 40s - loss: 0.6223 - accuracy: 0.7804 - val_loss: 0.1692 - val_accuracy: 0.9333\n",
      "Epoch 27/50\n",
      "58/58 - 39s - loss: 0.6351 - accuracy: 0.7704 - val_loss: 0.1625 - val_accuracy: 0.9467\n",
      "Epoch 28/50\n",
      "58/58 - 39s - loss: 0.6032 - accuracy: 0.7775 - val_loss: 0.2153 - val_accuracy: 0.9200\n",
      "Epoch 29/50\n",
      "58/58 - 39s - loss: 0.6140 - accuracy: 0.7658 - val_loss: 0.3577 - val_accuracy: 0.8800\n",
      "Epoch 30/50\n",
      "58/58 - 39s - loss: 0.6067 - accuracy: 0.7664 - val_loss: 0.2970 - val_accuracy: 0.9067\n",
      "Epoch 31/50\n",
      "58/58 - 40s - loss: 0.6109 - accuracy: 0.7868 - val_loss: 0.1512 - val_accuracy: 0.9400\n",
      "Epoch 32/50\n",
      "58/58 - 42s - loss: 0.5975 - accuracy: 0.7833 - val_loss: 0.1177 - val_accuracy: 0.9533\n",
      "Epoch 33/50\n",
      "58/58 - 40s - loss: 0.5844 - accuracy: 0.7897 - val_loss: 0.1329 - val_accuracy: 0.9500\n",
      "Epoch 34/50\n",
      "58/58 - 40s - loss: 0.5757 - accuracy: 0.7880 - val_loss: 0.1584 - val_accuracy: 0.9500\n",
      "Epoch 35/50\n",
      "58/58 - 39s - loss: 0.5609 - accuracy: 0.7956 - val_loss: 0.3179 - val_accuracy: 0.9033\n",
      "Epoch 36/50\n",
      "58/58 - 41s - loss: 0.6036 - accuracy: 0.7739 - val_loss: 0.1342 - val_accuracy: 0.9567\n",
      "Epoch 37/50\n",
      "58/58 - 42s - loss: 0.5486 - accuracy: 0.7926 - val_loss: 0.1112 - val_accuracy: 0.9633\n",
      "Epoch 38/50\n",
      "58/58 - 39s - loss: 0.5721 - accuracy: 0.7979 - val_loss: 0.1223 - val_accuracy: 0.9500\n",
      "Epoch 39/50\n",
      "58/58 - 39s - loss: 0.5485 - accuracy: 0.7973 - val_loss: 0.2219 - val_accuracy: 0.9267\n",
      "Epoch 40/50\n",
      "58/58 - 40s - loss: 0.5634 - accuracy: 0.7973 - val_loss: 0.2481 - val_accuracy: 0.9033\n",
      "Epoch 41/50\n",
      "58/58 - 41s - loss: 0.5516 - accuracy: 0.7973 - val_loss: 0.1241 - val_accuracy: 0.9567\n",
      "Epoch 42/50\n",
      "58/58 - 40s - loss: 0.5313 - accuracy: 0.8002 - val_loss: 0.1169 - val_accuracy: 0.9500\n",
      "Epoch 43/50\n",
      "58/58 - 39s - loss: 0.5660 - accuracy: 0.7886 - val_loss: 0.1036 - val_accuracy: 0.9633\n",
      "Epoch 44/50\n",
      "58/58 - 39s - loss: 0.5575 - accuracy: 0.7926 - val_loss: 0.1654 - val_accuracy: 0.9333\n",
      "Epoch 45/50\n",
      "58/58 - 39s - loss: 0.5900 - accuracy: 0.7862 - val_loss: 0.1392 - val_accuracy: 0.9467\n",
      "Epoch 46/50\n",
      "58/58 - 41s - loss: 0.5484 - accuracy: 0.8002 - val_loss: 0.1378 - val_accuracy: 0.9500\n",
      "Epoch 47/50\n",
      "58/58 - 39s - loss: 0.5185 - accuracy: 0.8061 - val_loss: 0.1050 - val_accuracy: 0.9700\n",
      "Epoch 48/50\n",
      "58/58 - 39s - loss: 0.5297 - accuracy: 0.8072 - val_loss: 0.1091 - val_accuracy: 0.9733\n",
      "Epoch 49/50\n",
      "58/58 - 40s - loss: 0.5391 - accuracy: 0.8067 - val_loss: 0.1477 - val_accuracy: 0.9367\n",
      "Epoch 50/50\n",
      "58/58 - 40s - loss: 0.5533 - accuracy: 0.7903 - val_loss: 0.1481 - val_accuracy: 0.9600\n"
     ]
    },
    {
     "data": {
      "text/plain": [
       "<tensorflow.python.keras.callbacks.History at 0x17931cfca60>"
      ]
     },
     "execution_count": 38,
     "metadata": {},
     "output_type": "execute_result"
    }
   ],
   "source": [
    "model.fit(x=train_batches, validation_data=valid_batches, epochs=50, verbose=2, callbacks=[early_stop])"
   ]
  },
  {
   "cell_type": "code",
   "execution_count": 39,
   "metadata": {},
   "outputs": [
    {
     "data": {
      "text/plain": [
       "<AxesSubplot:>"
      ]
     },
     "execution_count": 39,
     "metadata": {},
     "output_type": "execute_result"
    },
    {
     "data": {
      "image/png": "[encoded data removed]",
      "text/plain": [
       "<Figure size 432x288 with 1 Axes>"
      ]
     },
     "metadata": {
      "needs_background": "light"
     },
     "output_type": "display_data"
    }
   ],
   "source": [
    "history = pd.DataFrame(model.history.history).filter(['loss', 'val_loss'])\n",
    "history.plot()"
   ]
  },
  {
   "cell_type": "code",
   "execution_count": 40,
   "metadata": {},
   "outputs": [
    {
     "data": {
      "text/plain": [
       "<AxesSubplot:>"
      ]
     },
     "execution_count": 40,
     "metadata": {},
     "output_type": "execute_result"
    },
    {
     "data": {
      "image/png": "[encoded data removed]",
      "text/plain": [
       "<Figure size 432x288 with 1 Axes>"
      ]
     },
     "metadata": {
      "needs_background": "light"
     },
     "output_type": "display_data"
    }
   ],
   "source": [
    "history = pd.DataFrame(model.history.history).filter(['accuracy', 'val_accuracy'])\n",
    "history.plot()"
   ]
  },
  {
   "cell_type": "markdown",
   "metadata": {},
   "source": [
    "## Model Testing"
   ]
  },
  {
   "cell_type": "code",
   "execution_count": 41,
   "metadata": {},
   "outputs": [],
   "source": [
    "test_labels = test_batches.classes"
   ]
  },
  {
   "cell_type": "code",
   "execution_count": 42,
   "metadata": {},
   "outputs": [
    {
     "name": "stdout",
     "output_type": "stream",
     "text": [
      "2/2 - 1s\n"
     ]
    }
   ],
   "source": [
    "predictions = model.predict(x=test_batches, verbose=2)"
   ]
  },
  {
   "cell_type": "code",
   "execution_count": 43,
   "metadata": {},
   "outputs": [
    {
     "data": {
      "text/plain": [
       "array([0, 0, 0, 0, 0, 1, 1, 1, 1, 1, 2, 2, 2, 2, 2, 3, 3, 3, 3, 3, 6, 4,\n",
       "       4, 4, 4, 5, 5, 5, 5, 5, 6, 6, 6, 6, 6, 7, 7, 7, 7, 7, 7, 8, 8, 8,\n",
       "       8, 9, 9, 9, 9, 1], dtype=int64)"
      ]
     },
     "execution_count": 43,
     "metadata": {},
     "output_type": "execute_result"
    }
   ],
   "source": [
    "predictions.argmax(axis=1)"
   ]
  },
  {
   "cell_type": "code",
   "execution_count": 44,
   "metadata": {},
   "outputs": [],
   "source": [
    "cm = confusion_matrix(y_true=test_labels, y_pred=predictions.argmax(axis=1))"
   ]
  },
  {
   "cell_type": "code",
   "execution_count": 45,
   "metadata": {},
   "outputs": [
    {
     "data": {
      "text/plain": [
       "array([[5, 0, 0, 0, 0, 0, 0, 0, 0, 0],\n",
       "       [0, 5, 0, 0, 0, 0, 0, 0, 0, 0],\n",
       "       [0, 0, 5, 0, 0, 0, 0, 0, 0, 0],\n",
       "       [0, 0, 0, 5, 0, 0, 0, 0, 0, 0],\n",
       "       [0, 0, 0, 0, 4, 0, 1, 0, 0, 0],\n",
       "       [0, 0, 0, 0, 0, 5, 0, 0, 0, 0],\n",
       "       [0, 0, 0, 0, 0, 0, 5, 0, 0, 0],\n",
       "       [0, 0, 0, 0, 0, 0, 0, 5, 0, 0],\n",
       "       [0, 0, 0, 0, 0, 0, 0, 1, 4, 0],\n",
       "       [0, 1, 0, 0, 0, 0, 0, 0, 0, 4]], dtype=int64)"
      ]
     },
     "execution_count": 45,
     "metadata": {},
     "output_type": "execute_result"
    }
   ],
   "source": [
    "cm"
   ]
  },
  {
   "cell_type": "code",
   "execution_count": 46,
   "metadata": {},
   "outputs": [],
   "source": [
    "model.save(\"tuned_mobilenet.h5\")"
   ]
  },
  {
   "cell_type": "code",
   "execution_count": 47,
   "metadata": {},
   "outputs": [
    {
     "data": {
      "text/plain": [
       "(1, 224, 224, 3)"
      ]
     },
     "execution_count": 47,
     "metadata": {},
     "output_type": "execute_result"
    }
   ],
   "source": [
    "np.expand_dims(test_batches.next()[0][0], axis = 0).shape"
   ]
  },
  {
   "cell_type": "code",
   "execution_count": 48,
   "metadata": {
    "scrolled": true
   },
   "outputs": [],
   "source": [
    "pred = model.predict(np.expand_dims(test_batches.next()[0][0], axis = 0))"
   ]
  },
  {
   "cell_type": "code",
   "execution_count": 49,
   "metadata": {
    "scrolled": true
   },
   "outputs": [
    {
     "data": {
      "text/plain": [
       "array([[5.6527039e-10, 4.8563784e-06, 1.7335134e-06, 6.2616651e-10,\n",
       "        4.6237299e-04, 9.1731891e-08, 9.9953043e-01, 2.2112118e-07,\n",
       "        7.9553004e-08, 7.0252568e-08]], dtype=float32)"
      ]
     },
     "execution_count": 49,
     "metadata": {},
     "output_type": "execute_result"
    }
   ],
   "source": [
    "pred"
   ]
  },
  {
   "cell_type": "markdown",
   "metadata": {},
   "source": [
    "## Convert Keras Model to TF.js format"
   ]
  },
  {
   "cell_type": "code",
   "execution_count": 138,
   "metadata": {},
   "outputs": [
    {
     "name": "stdout",
     "output_type": "stream",
     "text": [
      "Collecting tensorflowjs\n",
      "  Downloading tensorflowjs-3.3.0-py3-none-any.whl (63 kB)\n",
      "Requirement already satisfied: h5py<3,>=2.8.0 in c:\\users\\15088\\anaconda3\\lib\\site-packages (from tensorflowjs) (2.10.0)\n",
      "Requirement already satisfied: tensorflow<3,>=2.1.0 in c:\\users\\15088\\anaconda3\\lib\\site-packages (from tensorflowjs) (2.4.0)\n",
      "Requirement already satisfied: six<2,>=1.12.0 in c:\\users\\15088\\anaconda3\\lib\\site-packages (from tensorflowjs) (1.15.0)\n",
      "Requirement already satisfied: numpy>=1.7 in c:\\users\\15088\\anaconda3\\lib\\site-packages (from h5py<3,>=2.8.0->tensorflowjs) (1.19.2)\n",
      "Requirement already satisfied: wheel~=0.35 in c:\\users\\15088\\anaconda3\\lib\\site-packages (from tensorflow<3,>=2.1.0->tensorflowjs) (0.35.1)\n",
      "Requirement already satisfied: typing-extensions~=3.7.4 in c:\\users\\15088\\anaconda3\\lib\\site-packages (from tensorflow<3,>=2.1.0->tensorflowjs) (3.7.4.3)\n",
      "Requirement already satisfied: wrapt~=1.12.1 in c:\\users\\15088\\anaconda3\\lib\\site-packages (from tensorflow<3,>=2.1.0->tensorflowjs) (1.12.1)\n",
      "Requirement already satisfied: tensorflow-estimator<2.5.0,>=2.4.0rc0 in c:\\users\\15088\\anaconda3\\lib\\site-packages (from tensorflow<3,>=2.1.0->tensorflowjs) (2.4.0)\n",
      "Requirement already satisfied: keras-preprocessing~=1.1.2 in c:\\users\\15088\\anaconda3\\lib\\site-packages (from tensorflow<3,>=2.1.0->tensorflowjs) (1.1.2)\n",
      "Requirement already satisfied: termcolor~=1.1.0 in c:\\users\\15088\\anaconda3\\lib\\site-packages (from tensorflow<3,>=2.1.0->tensorflowjs) (1.1.0)\n",
      "Requirement already satisfied: absl-py~=0.10 in c:\\users\\15088\\anaconda3\\lib\\site-packages (from tensorflow<3,>=2.1.0->tensorflowjs) (0.11.0)\n",
      "Requirement already satisfied: protobuf>=3.9.2 in c:\\users\\15088\\anaconda3\\lib\\site-packages (from tensorflow<3,>=2.1.0->tensorflowjs) (3.14.0)\n",
      "Requirement already satisfied: grpcio~=1.32.0 in c:\\users\\15088\\anaconda3\\lib\\site-packages (from tensorflow<3,>=2.1.0->tensorflowjs) (1.32.0)\n",
      "Requirement already satisfied: astunparse~=1.6.3 in c:\\users\\15088\\anaconda3\\lib\\site-packages (from tensorflow<3,>=2.1.0->tensorflowjs) (1.6.3)\n",
      "Requirement already satisfied: opt-einsum~=3.3.0 in c:\\users\\15088\\anaconda3\\lib\\site-packages (from tensorflow<3,>=2.1.0->tensorflowjs) (3.3.0)\n",
      "Requirement already satisfied: gast==0.3.3 in c:\\users\\15088\\anaconda3\\lib\\site-packages (from tensorflow<3,>=2.1.0->tensorflowjs) (0.3.3)\n",
      "Requirement already satisfied: tensorboard~=2.4 in c:\\users\\15088\\anaconda3\\lib\\site-packages (from tensorflow<3,>=2.1.0->tensorflowjs) (2.4.0)\n",
      "Requirement already satisfied: flatbuffers~=1.12.0 in c:\\users\\15088\\anaconda3\\lib\\site-packages (from tensorflow<3,>=2.1.0->tensorflowjs) (1.12)\n",
      "Requirement already satisfied: google-pasta~=0.2 in c:\\users\\15088\\anaconda3\\lib\\site-packages (from tensorflow<3,>=2.1.0->tensorflowjs) (0.2.0)\n",
      "Requirement already satisfied: google-auth<2,>=1.6.3 in c:\\users\\15088\\anaconda3\\lib\\site-packages (from tensorboard~=2.4->tensorflow<3,>=2.1.0->tensorflowjs) (1.24.0)\n",
      "Requirement already satisfied: werkzeug>=0.11.15 in c:\\users\\15088\\anaconda3\\lib\\site-packages (from tensorboard~=2.4->tensorflow<3,>=2.1.0->tensorflowjs) (1.0.1)\n",
      "Requirement already satisfied: tensorboard-plugin-wit>=1.6.0 in c:\\users\\15088\\anaconda3\\lib\\site-packages (from tensorboard~=2.4->tensorflow<3,>=2.1.0->tensorflowjs) (1.7.0)\n",
      "Requirement already satisfied: google-auth-oauthlib<0.5,>=0.4.1 in c:\\users\\15088\\anaconda3\\lib\\site-packages (from tensorboard~=2.4->tensorflow<3,>=2.1.0->tensorflowjs) (0.4.2)\n",
      "Requirement already satisfied: setuptools>=41.0.0 in c:\\users\\15088\\anaconda3\\lib\\site-packages (from tensorboard~=2.4->tensorflow<3,>=2.1.0->tensorflowjs) (50.3.1.post20201107)\n",
      "Requirement already satisfied: markdown>=2.6.8 in c:\\users\\15088\\anaconda3\\lib\\site-packages (from tensorboard~=2.4->tensorflow<3,>=2.1.0->tensorflowjs) (3.3.3)\n",
      "Requirement already satisfied: requests<3,>=2.21.0 in c:\\users\\15088\\anaconda3\\lib\\site-packages (from tensorboard~=2.4->tensorflow<3,>=2.1.0->tensorflowjs) (2.24.0)\n",
      "Requirement already satisfied: cachetools<5.0,>=2.0.0 in c:\\users\\15088\\anaconda3\\lib\\site-packages (from google-auth<2,>=1.6.3->tensorboard~=2.4->tensorflow<3,>=2.1.0->tensorflowjs) (4.2.0)\n",
      "Requirement already satisfied: pyasn1-modules>=0.2.1 in c:\\users\\15088\\anaconda3\\lib\\site-packages (from google-auth<2,>=1.6.3->tensorboard~=2.4->tensorflow<3,>=2.1.0->tensorflowjs) (0.2.8)\n",
      "Requirement already satisfied: rsa<5,>=3.1.4 in c:\\users\\15088\\anaconda3\\lib\\site-packages (from google-auth<2,>=1.6.3->tensorboard~=2.4->tensorflow<3,>=2.1.0->tensorflowjs) (4.6)\n",
      "Requirement already satisfied: requests-oauthlib>=0.7.0 in c:\\users\\15088\\anaconda3\\lib\\site-packages (from google-auth-oauthlib<0.5,>=0.4.1->tensorboard~=2.4->tensorflow<3,>=2.1.0->tensorflowjs) (1.3.0)\n",
      "Requirement already satisfied: pyasn1<0.5.0,>=0.4.6 in c:\\users\\15088\\anaconda3\\lib\\site-packages (from pyasn1-modules>=0.2.1->google-auth<2,>=1.6.3->tensorboard~=2.4->tensorflow<3,>=2.1.0->tensorflowjs) (0.4.8)\n",
      "Requirement already satisfied: idna<3,>=2.5 in c:\\users\\15088\\anaconda3\\lib\\site-packages (from requests<3,>=2.21.0->tensorboard~=2.4->tensorflow<3,>=2.1.0->tensorflowjs) (2.10)\n",
      "Requirement already satisfied: certifi>=2017.4.17 in c:\\users\\15088\\anaconda3\\lib\\site-packages (from requests<3,>=2.21.0->tensorboard~=2.4->tensorflow<3,>=2.1.0->tensorflowjs) (2020.6.20)\n",
      "Requirement already satisfied: urllib3!=1.25.0,!=1.25.1,<1.26,>=1.21.1 in c:\\users\\15088\\anaconda3\\lib\\site-packages (from requests<3,>=2.21.0->tensorboard~=2.4->tensorflow<3,>=2.1.0->tensorflowjs) (1.25.11)\n",
      "Requirement already satisfied: chardet<4,>=3.0.2 in c:\\users\\15088\\anaconda3\\lib\\site-packages (from requests<3,>=2.21.0->tensorboard~=2.4->tensorflow<3,>=2.1.0->tensorflowjs) (3.0.4)\n",
      "Requirement already satisfied: oauthlib>=3.0.0 in c:\\users\\15088\\anaconda3\\lib\\site-packages (from requests-oauthlib>=0.7.0->google-auth-oauthlib<0.5,>=0.4.1->tensorboard~=2.4->tensorflow<3,>=2.1.0->tensorflowjs) (3.1.0)\n",
      "Collecting tensorflow-hub<0.10,>=0.7.0\n",
      "  Downloading tensorflow_hub-0.9.0-py2.py3-none-any.whl (103 kB)\n",
      "Installing collected packages: tensorflow-hub, tensorflowjs\n",
      "Successfully installed tensorflow-hub-0.9.0 tensorflowjs-3.3.0\n"
     ]
    },
    {
     "name": "stderr",
     "output_type": "stream",
     "text": [
      "WARNING: You are using pip version 20.3.3; however, version 21.0.1 is available.\n",
      "You should consider upgrading via the 'c:\\users\\15088\\anaconda3\\python.exe -m pip install --upgrade pip' command.\n"
     ]
    }
   ],
   "source": [
    "!pip install tensorflowjs"
   ]
  },
  {
   "cell_type": "code",
   "execution_count": 50,
   "metadata": {},
   "outputs": [],
   "source": [
    "import tensorflowjs as tfjs"
   ]
  },
  {
   "cell_type": "code",
   "execution_count": 51,
   "metadata": {},
   "outputs": [
    {
     "name": "stderr",
     "output_type": "stream",
     "text": [
      "C:\\Users\\15088\\Anaconda3\\lib\\site-packages\\tensorflowjs\\converters\\keras_h5_conversion.py:123: H5pyDeprecationWarning: The default file mode will change to 'r' (read-only) in h5py 3.0. To suppress this warning, pass the mode you need to h5py.File(), or set the global default h5.get_config().default_file_mode, or set the environment variable H5PY_DEFAULT_READONLY=1. Available modes are: 'r', 'r+', 'w', 'w-'/'x', 'a'. See the docs for details.\n",
      "  return h5py.File(h5file)\n"
     ]
    }
   ],
   "source": [
    "tfjs.converters.save_keras_model(model, \"tuned_mobilenet_js\")"
   ]
  },
  {
   "cell_type": "markdown",
   "metadata": {},
   "source": [
    "1. With Data Augmentation, as the model being trained, the train accuracy slowly decreases while the validation accuracy remains increasing.\n",
    "2. Data Augmentation makes a big difference especially when dataset is quite small and uniform."
   ]
  },
  {
   "cell_type": "code",
   "execution_count": null,
   "metadata": {},
   "outputs": [],
   "source": []
  }
 ],
 "metadata": {
  "kernelspec": {
   "display_name": "Python 3",
   "language": "python",
   "name": "python3"
  },
  "language_info": {
   "codemirror_mode": {
    "name": "ipython",
    "version": 3
   },
   "file_extension": ".py",
   "mimetype": "text/x-python",
   "name": "python",
   "nbconvert_exporter": "python",
   "pygments_lexer": "ipython3",
   "version": "3.8.5"
  }
 },
 "nbformat": 4,
 "nbformat_minor": 4
}
